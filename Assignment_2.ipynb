{
  "nbformat": 4,
  "nbformat_minor": 0,
  "metadata": {
    "colab": {
      "name": "Assignment-2.ipynb",
      "provenance": [],
      "collapsed_sections": [],
      "authorship_tag": "ABX9TyPOcBidcICyj7v8IuDFweUw",
      "include_colab_link": true
    },
    "kernelspec": {
      "name": "python3",
      "display_name": "Python 3"
    }
  },
  "cells": [
    {
      "cell_type": "markdown",
      "metadata": {
        "id": "view-in-github",
        "colab_type": "text"
      },
      "source": [
        "<a href=\"https://colab.research.google.com/github/durgeshwarmajhi9/IOT_Assignment_2_36718/blob/main/Assignment_2.ipynb\" target=\"_parent\"><img src=\"https://colab.research.google.com/assets/colab-badge.svg\" alt=\"Open In Colab\"/></a>"
      ]
    },
    {
      "cell_type": "code",
      "metadata": {
        "colab": {
          "base_uri": "https://localhost:8080/"
        },
        "id": "dLbydLGnChmG",
        "outputId": "844b7277-ce0c-4c91-85d4-d52e9daad44c"
      },
      "source": [
        "print(sum(list(map(int, [digit for digit in input(\"Enter a number:\")]))))"
      ],
      "execution_count": null,
      "outputs": [
        {
          "output_type": "stream",
          "text": [
            "Enter a number:12345\n",
            "15\n"
          ],
          "name": "stdout"
        }
      ]
    },
    {
      "cell_type": "code",
      "metadata": {
        "id": "yo8jMfaOEZ7Z",
        "colab": {
          "base_uri": "https://localhost:8080/"
        },
        "outputId": "16e7c7c5-1fa3-41e2-eac8-f59020fdd4f4"
      },
      "source": [
        "print(sum(map(int, [digit for digit in input ( \" Enter a number: \" ) if int (digit) % 2 == 0 ])))"
      ],
      "execution_count": null,
      "outputs": [
        {
          "output_type": "stream",
          "text": [
            " Enter a number: 12345678\n",
            "20\n"
          ],
          "name": "stdout"
        }
      ]
    },
    {
      "cell_type": "code",
      "metadata": {
        "colab": {
          "base_uri": "https://localhost:8080/"
        },
        "id": "a1RNOMKtPFSd",
        "outputId": "360c8150-7621-4d92-851a-15f09f7887ca"
      },
      "source": [
        "print(sum(map(int, [digit for digit in input(\"Enter a number:\") if int(digit)%2!=0]))) "
      ],
      "execution_count": null,
      "outputs": [
        {
          "output_type": "stream",
          "text": [
            "Enter a number:123456789\n",
            "25\n"
          ],
          "name": "stdout"
        }
      ]
    },
    {
      "cell_type": "code",
      "metadata": {
        "colab": {
          "base_uri": "https://localhost:8080/"
        },
        "id": "DlRC2q8IPcrI",
        "outputId": "4b30c50c-4052-48a7-b124-babd7cbda6f2"
      },
      "source": [
        "print(sum(map(int, [i for i in input(\"Enter a number:\") if i in ('2', '3', '5', '7')]))) "
      ],
      "execution_count": null,
      "outputs": [
        {
          "output_type": "stream",
          "text": [
            "Enter a number:273564\n",
            "17\n"
          ],
          "name": "stdout"
        }
      ]
    },
    {
      "cell_type": "code",
      "metadata": {
        "colab": {
          "base_uri": "https://localhost:8080/"
        },
        "id": "15-7lh2pP-y2",
        "outputId": "472c9b72-a728-4f3e-ab11-f04eda619618"
      },
      "source": [
        "n = input(\"Enter a number:\")\r\n",
        "evens = [int(i) for i in n if int(i)%2==0 and int(i)%4!=0]\r\n",
        "odds = [int(i) for i in n if int(i)%2!=0 and int(i)%6!=0]\r\n",
        "print(sum(evens)/len(evens) - sum(odds)/len(odds)) "
      ],
      "execution_count": null,
      "outputs": [
        {
          "output_type": "stream",
          "text": [
            "Enter a number:243857\n",
            "-3.0\n"
          ],
          "name": "stdout"
        }
      ]
    },
    {
      "cell_type": "code",
      "metadata": {
        "colab": {
          "base_uri": "https://localhost:8080/"
        },
        "id": "pulKT2fqVd4Z",
        "outputId": "b3b7cc03-1834-4579-cb2f-8c341a38b89e"
      },
      "source": [
        "num = input(\"Enter a number:\")\r\n",
        "k = int(input(\"Enter K:\"))\r\n",
        "print(\"\\n Front:\" , num[k-1], \"\\n Back:\", num[-k]) if k<len(num) else print(\"\\n Invalid K\")"
      ],
      "execution_count": 4,
      "outputs": [
        {
          "output_type": "stream",
          "text": [
            "Enter a number:454725\n",
            "Enter K:2\n",
            "\n",
            " Front: 5 \n",
            " Back: 2\n"
          ],
          "name": "stdout"
        }
      ]
    },
    {
      "cell_type": "code",
      "metadata": {
        "colab": {
          "base_uri": "https://localhost:8080/"
        },
        "id": "y6AJ5tQxDOXw",
        "outputId": "7455f36d-4c57-4994-b967-7d1d0ce6289e"
      },
      "source": [
        "n = input(\"Enter a number:\")\r\n",
        "print(sum(int(n[i])*int(n[i+1]) for i in range(0, len(n)-1))) "
      ],
      "execution_count": 6,
      "outputs": [
        {
          "output_type": "stream",
          "text": [
            "Enter a number:2346\n",
            "42\n"
          ],
          "name": "stdout"
        }
      ]
    },
    {
      "cell_type": "code",
      "metadata": {
        "colab": {
          "base_uri": "https://localhost:8080/"
        },
        "id": "1ZV-Pkf6EKqd",
        "outputId": "d426d6a1-7966-4213-cbae-27a0a2fb3224"
      },
      "source": [
        "n = list(filter(lambda x : int(x)%2==0, input(\"Enter a number:\")))\r\n",
        "print(sum(int(n[i])*int(n[i+1]) for i in range(0, len(n)-1)))"
      ],
      "execution_count": 7,
      "outputs": [
        {
          "output_type": "stream",
          "text": [
            "Enter a number:25346\n",
            "32\n"
          ],
          "name": "stdout"
        }
      ]
    },
    {
      "cell_type": "code",
      "metadata": {
        "colab": {
          "base_uri": "https://localhost:8080/"
        },
        "id": "xWI1IoF6E3Y8",
        "outputId": "d03776e6-0ffc-4eff-c366-1929005e30f1"
      },
      "source": [
        "n = list(filter(lambda x : int(x)%2!=0, input(\"Enter a number:\")))\r\n",
        "print(sum(int(n[i])*int(n[i+1]) for i in range(0, len(n)-1)))"
      ],
      "execution_count": 8,
      "outputs": [
        {
          "output_type": "stream",
          "text": [
            "Enter a number:65341\n",
            "18\n"
          ],
          "name": "stdout"
        }
      ]
    },
    {
      "cell_type": "code",
      "metadata": {
        "colab": {
          "base_uri": "https://localhost:8080/"
        },
        "id": "PPrzFjVXFiAV",
        "outputId": "de13814d-29d0-4cad-cf50-f2ccad2ac7c9"
      },
      "source": [
        "n = list(filter(lambda x : x in ['2', '3', '5', '7'], input(\"Enter number:\")))\r\n",
        "print(sum(int(n[i])*int(n[i+1]) for i in range(0, len(n)-1)))"
      ],
      "execution_count": 9,
      "outputs": [
        {
          "output_type": "stream",
          "text": [
            "Enter number:26537\n",
            "46\n"
          ],
          "name": "stdout"
        }
      ]
    },
    {
      "cell_type": "code",
      "metadata": {
        "colab": {
          "base_uri": "https://localhost:8080/"
        },
        "id": "m3FD6xqrGSFf",
        "outputId": "06d13516-d787-49cc-9fbd-26d32632d691"
      },
      "source": [
        "n = input(\"Enter a number:\")\r\n",
        "evens = list(filter(lambda x : x in [0, 4, 8], map(int, n)))\r\n",
        "odds = list(filter(lambda x : x in [1, 5, 9], map(int, n)))\r\n",
        "print(sum([evens[i]*evens[i+1] for i in range(len(evens)-1)])-sum([odds[i]*odds[i+1] for i in range(len(odds)-1)]))"
      ],
      "execution_count": 10,
      "outputs": [
        {
          "output_type": "stream",
          "text": [
            "Enter a number:2134658\n",
            "27\n"
          ],
          "name": "stdout"
        }
      ]
    },
    {
      "cell_type": "code",
      "metadata": {
        "colab": {
          "base_uri": "https://localhost:8080/"
        },
        "id": "ywdS053HKf9f",
        "outputId": "d966c110-b09a-420d-9047-d2fc4c270720"
      },
      "source": [
        "print(sum(int(i)*int(j) for (i,j) in zip(input(\"Enter a number:\"), input(\"Enter another number:\"))))"
      ],
      "execution_count": 11,
      "outputs": [
        {
          "output_type": "stream",
          "text": [
            "Enter a number:7896\n",
            "Enter another number:1234\n",
            "74\n"
          ],
          "name": "stdout"
        }
      ]
    },
    {
      "cell_type": "code",
      "metadata": {
        "colab": {
          "base_uri": "https://localhost:8080/"
        },
        "id": "nAIIKN5aMrIi",
        "outputId": "eaa056aa-11ab-46ab-c054-042c639d6cb9"
      },
      "source": [
        "print(sum(i*j for (i,j) in zip(filter(lambda x : x%2==0, map(int, input(\"Enter first number:\"))), filter(lambda x : x%2!=0, map(int, input(\"Enter second number:\"))))))"
      ],
      "execution_count": 12,
      "outputs": [
        {
          "output_type": "stream",
          "text": [
            "Enter first number:1234\n",
            "Enter second number:4567\n",
            "38\n"
          ],
          "name": "stdout"
        }
      ]
    },
    {
      "cell_type": "code",
      "metadata": {
        "colab": {
          "base_uri": "https://localhost:8080/"
        },
        "id": "vZy5engWNdsf",
        "outputId": "33df739c-372c-47fd-e07f-1180e9bbd724"
      },
      "source": [
        "from math import factorial\r\n",
        "x = int(input(\"Enter x:\"))\r\n",
        "n = int(input(\"Enter n:\"))\r\n",
        "print(1+sum([(-1)**(i+1)*x**i/factorial(i) for i in range(2, n+1)]))"
      ],
      "execution_count": 13,
      "outputs": [
        {
          "output_type": "stream",
          "text": [
            "Enter x:2\n",
            "Enter n:6\n",
            "-0.15555555555555567\n"
          ],
          "name": "stdout"
        }
      ]
    },
    {
      "cell_type": "code",
      "metadata": {
        "colab": {
          "base_uri": "https://localhost:8080/"
        },
        "id": "zjcUHhmuOW5c",
        "outputId": "87558762-3e2a-41c9-d580-041d3f4db3ba"
      },
      "source": [
        "from math import factorial\r\n",
        "x = int(input(\"Enter x:\"))\r\n",
        "n = int(input(\"Enter n:\"))\r\n",
        "print(sum([(-1)**i*x**j/factorial(j) for i,j in enumerate(range(1, n+1, 2))]))"
      ],
      "execution_count": 14,
      "outputs": [
        {
          "output_type": "stream",
          "text": [
            "Enter x:2\n",
            "Enter n:6\n",
            "0.9333333333333333\n"
          ],
          "name": "stdout"
        }
      ]
    },
    {
      "cell_type": "code",
      "metadata": {
        "colab": {
          "base_uri": "https://localhost:8080/"
        },
        "id": "IewTLLhxPFO9",
        "outputId": "7c801a74-1aa4-4fa4-ce3b-268049b38483"
      },
      "source": [
        "from math import factorial\r\n",
        "x = int(input(\"Enter x:\"))\r\n",
        "n = int(input(\"Enter n:\"))\r\n",
        "print(1+sum([x**i/factorial(i) for i in range(2, n+1, 2)]))"
      ],
      "execution_count": 15,
      "outputs": [
        {
          "output_type": "stream",
          "text": [
            "Enter x:2\n",
            "Enter n:6\n",
            "3.7555555555555555\n"
          ],
          "name": "stdout"
        }
      ]
    },
    {
      "cell_type": "code",
      "metadata": {
        "colab": {
          "base_uri": "https://localhost:8080/"
        },
        "id": "5KBG9PYGPgzx",
        "outputId": "92a3b3ac-eb19-4c4d-b1ce-b7b81dd10c4c"
      },
      "source": [
        "from math import factorial\r\n",
        "num = input(\"Enter a number:\")\r\n",
        "x = sum([int(i) for i in num if i in ('0', '4', '6')])\r\n",
        "n = sum([int(i) for i in num if i in ('5', '7', '9')])\r\n",
        "print(sum([(-1)**i*x**j/factorial(j) for i,j in enumerate(range(1, n+1, 2))]))"
      ],
      "execution_count": 16,
      "outputs": [
        {
          "output_type": "stream",
          "text": [
            "Enter a number:316245\n",
            "676.6666666666667\n"
          ],
          "name": "stdout"
        }
      ]
    },
    {
      "cell_type": "code",
      "metadata": {
        "colab": {
          "base_uri": "https://localhost:8080/"
        },
        "id": "aqSjnPDuQOn_",
        "outputId": "902803d7-743a-4a49-b56d-bf35b9862ae1"
      },
      "source": [
        "def sieve_of_eratosthenes(start, end):\r\n",
        " prime = [True for i in range(end+1)]\r\n",
        " p=2\r\n",
        " while p*p<=end:\r\n",
        "    if prime[p]:\r\n",
        "        for i in range(p*p, end+1, p): prime[i] = False\r\n",
        "    p+=1\r\n",
        " for i in range(max(2, start), end+1):\r\n",
        "   if prime[i]: print(i, end=\", \")\r\n",
        "sieve_of_eratosthenes(int(input(\"Enter starting number:\")), int(input(\"Enter ending number:\")))"
      ],
      "execution_count": 17,
      "outputs": [
        {
          "output_type": "stream",
          "text": [
            "Enter starting number:5\n",
            "Enter ending number:100\n",
            "5, 7, 11, 13, 17, 19, 23, 29, 31, 37, 41, 43, 47, 53, 59, 61, 67, 71, 73, 79, 83, 89, 97, "
          ],
          "name": "stdout"
        }
      ]
    },
    {
      "cell_type": "code",
      "metadata": {
        "colab": {
          "base_uri": "https://localhost:8080/"
        },
        "id": "7sChW7oLTvYs",
        "outputId": "e64437aa-0e3c-4f92-a667-567f0a939496"
      },
      "source": [
        "result = {\"Student_{}\".format(i+1): [int(input(\"Enter marks of student_{} for subject_{}: \".format(i+1, j+1))) for j in range(5)] for i in range(10)}\r\n",
        "[print(\"Total marks of Student_{} is {}\".format(i+1, total)) for i,total in enumerate([sum(result[student]) for student in result])]"
      ],
      "execution_count": 18,
      "outputs": [
        {
          "output_type": "stream",
          "text": [
            "Enter marks of student_1 for subject_1: 35\n",
            "Enter marks of student_1 for subject_2: 70\n",
            "Enter marks of student_1 for subject_3: 21\n",
            "Enter marks of student_1 for subject_4: 50\n",
            "Enter marks of student_1 for subject_5: 60\n",
            "Enter marks of student_2 for subject_1: 78\n",
            "Enter marks of student_2 for subject_2: 80\n",
            "Enter marks of student_2 for subject_3: 98\n",
            "Enter marks of student_2 for subject_4: 97\n",
            "Enter marks of student_2 for subject_5: 50\n",
            "Enter marks of student_3 for subject_1: 68\n",
            "Enter marks of student_3 for subject_2: 25\n",
            "Enter marks of student_3 for subject_3: 88\n",
            "Enter marks of student_3 for subject_4: 90\n",
            "Enter marks of student_3 for subject_5: 76\n",
            "Enter marks of student_4 for subject_1: 77\n",
            "Enter marks of student_4 for subject_2: 89\n",
            "Enter marks of student_4 for subject_3: 81\n",
            "Enter marks of student_4 for subject_4: 69\n",
            "Enter marks of student_4 for subject_5: 66\n",
            "Enter marks of student_5 for subject_1: 55\n",
            "Enter marks of student_5 for subject_2: 64\n",
            "Enter marks of student_5 for subject_3: 69\n",
            "Enter marks of student_5 for subject_4: 90\n",
            "Enter marks of student_5 for subject_5: 76\n",
            "Enter marks of student_6 for subject_1: 87\n",
            "Enter marks of student_6 for subject_2: 45\n",
            "Enter marks of student_6 for subject_3: 77\n",
            "Enter marks of student_6 for subject_4: 65\n",
            "Enter marks of student_6 for subject_5: 51\n",
            "Enter marks of student_7 for subject_1: 42\n",
            "Enter marks of student_7 for subject_2: 43\n",
            "Enter marks of student_7 for subject_3: 76\n",
            "Enter marks of student_7 for subject_4: 75\n",
            "Enter marks of student_7 for subject_5: 89\n",
            "Enter marks of student_8 for subject_1: 65\n",
            "Enter marks of student_8 for subject_2: 76\n",
            "Enter marks of student_8 for subject_3: 77\n",
            "Enter marks of student_8 for subject_4: 95\n",
            "Enter marks of student_8 for subject_5: 98\n",
            "Enter marks of student_9 for subject_1: 45\n",
            "Enter marks of student_9 for subject_2: 56\n",
            "Enter marks of student_9 for subject_3: 60\n",
            "Enter marks of student_9 for subject_4: 71\n",
            "Enter marks of student_9 for subject_5: 55\n",
            "Enter marks of student_10 for subject_1: 79\n",
            "Enter marks of student_10 for subject_2: 88\n",
            "Enter marks of student_10 for subject_3: 98\n",
            "Enter marks of student_10 for subject_4: 95\n",
            "Enter marks of student_10 for subject_5: 89\n",
            "Total marks of Student_1 is 236\n",
            "Total marks of Student_2 is 403\n",
            "Total marks of Student_3 is 347\n",
            "Total marks of Student_4 is 382\n",
            "Total marks of Student_5 is 354\n",
            "Total marks of Student_6 is 325\n",
            "Total marks of Student_7 is 325\n",
            "Total marks of Student_8 is 411\n",
            "Total marks of Student_9 is 287\n",
            "Total marks of Student_10 is 449\n"
          ],
          "name": "stdout"
        },
        {
          "output_type": "execute_result",
          "data": {
            "text/plain": [
              "[None, None, None, None, None, None, None, None, None, None]"
            ]
          },
          "metadata": {
            "tags": []
          },
          "execution_count": 18
        }
      ]
    },
    {
      "cell_type": "code",
      "metadata": {
        "colab": {
          "base_uri": "https://localhost:8080/"
        },
        "id": "-Y6xfjxAXQh6",
        "outputId": "81e32ccf-3442-4d46-d7e0-4139bf9db2c0"
      },
      "source": [
        "keys = [\"Roll\", \"Regd\", \"Name\", \"Branch\", \"Stream\", \"Sem\", \"Phone\", \"Address\"]\r\n",
        "details = {k: input(\"Please enter your {}:\".format(k)) for k in keys}\r\n",
        "print( \" My name is {}. I am from {}. Currently I am in Sem-{} of {} - {}. My roll no is {} and registration number is {}. To know more, call {}.\"\r\n",
        ".format(details[\"Name\"], details[\"Address\"], details[\"Sem\"], details[\"Stream\"],\r\n",
        "        details[\"Branch\"], details[\"Roll\"], details[\"Regd\"], details[\"Phone\"]))"
      ],
      "execution_count": 20,
      "outputs": [
        {
          "output_type": "stream",
          "text": [
            "Please enter your Roll:36718\n",
            "Please enter your Regd:1701105006\n",
            "Please enter your Name:Durgeshwar Majhi\n",
            "Please enter your Branch:CSE\n",
            "Please enter your Stream:B. Tech\n",
            "Please enter your Sem:7\n",
            "Please enter your Phone:8080909078\n",
            "Please enter your Address:Nalconagar, Angul\n",
            " My name is Durgeshwar Majhi. I am from Nalconagar, Angul. Currently I am in Sem-7 of B. Tech - CSE. My roll no is 36718 and registration number is 1701105006. To know more, call 8080909078.\n"
          ],
          "name": "stdout"
        }
      ]
    },
    {
      "cell_type": "code",
      "metadata": {
        "colab": {
          "base_uri": "https://localhost:8080/"
        },
        "id": "Q7BMp_FXaTJ5",
        "outputId": "455f61e1-b0f9-4e14-9c51-4b48e200dd38"
      },
      "source": [
        "fib = [0, 1]\r\n",
        "[fib.append(fib[i-2]+fib[i-1]) for i in range(2, int(input(\"Enter N:\")))]\r\n",
        "print(*fib, sep=\", \")"
      ],
      "execution_count": 21,
      "outputs": [
        {
          "output_type": "stream",
          "text": [
            "Enter N:10\n",
            "0, 1, 1, 2, 3, 5, 8, 13, 21, 34\n"
          ],
          "name": "stdout"
        }
      ]
    },
    {
      "cell_type": "code",
      "metadata": {
        "colab": {
          "base_uri": "https://localhost:8080/"
        },
        "id": "3TQHIII6cOQC",
        "outputId": "033226cd-61dd-4f26-d419-4406054bb160"
      },
      "source": [
        "s = input(\"Enter a String:\")\r\n",
        "if len(s) < 3: print(s)\r\n",
        "elif not s.endswith('ing'): print(s+'ing')\r\n",
        "else : print(s+'ly')"
      ],
      "execution_count": 23,
      "outputs": [
        {
          "output_type": "stream",
          "text": [
            "Enter a String:String\n",
            "Stringly\n"
          ],
          "name": "stdout"
        }
      ]
    },
    {
      "cell_type": "code",
      "metadata": {
        "colab": {
          "base_uri": "https://localhost:8080/"
        },
        "id": "LXsSeCVkdCpH",
        "outputId": "8287b5e9-dd92-4589-cf87-68ed2d1f91f6"
      },
      "source": [
        "s = input(\"Enter a String:\")\r\n",
        "print(''.join([s[0]]+[c if c!=s[0] else '$' for c in s[1:]]))"
      ],
      "execution_count": 24,
      "outputs": [
        {
          "output_type": "stream",
          "text": [
            "Enter a String:onion\n",
            "oni$n\n"
          ],
          "name": "stdout"
        }
      ]
    },
    {
      "cell_type": "code",
      "metadata": {
        "colab": {
          "base_uri": "https://localhost:8080/"
        },
        "id": "UwL1XSvYdrr9",
        "outputId": "03827283-d5ce-4f23-eed9-708676f8c82c"
      },
      "source": [
        "print(sorted([input(\"Enter name of fruit_ %s :\"%(i+1)).strip().upper() for i in range(10)]))"
      ],
      "execution_count": 25,
      "outputs": [
        {
          "output_type": "stream",
          "text": [
            "Enter name of fruit_ 1 :Watermellon\n",
            "Enter name of fruit_ 2 :Banana\n",
            "Enter name of fruit_ 3 :Apple\n",
            "Enter name of fruit_ 4 :Orange\n",
            "Enter name of fruit_ 5 :Pineapple\n",
            "Enter name of fruit_ 6 :Clementines\n",
            "Enter name of fruit_ 7 :Fig\n",
            "Enter name of fruit_ 8 :Grapes\n",
            "Enter name of fruit_ 9 :Mango\n",
            "Enter name of fruit_ 10 :Litchi\n",
            "['APPLE', 'BANANA', 'CLEMENTINES', 'FIG', 'GRAPES', 'LITCHI', 'MANGO', 'ORANGE', 'PINEAPPLE', 'WATERMELLON']\n"
          ],
          "name": "stdout"
        }
      ]
    },
    {
      "cell_type": "code",
      "metadata": {
        "colab": {
          "base_uri": "https://localhost:8080/"
        },
        "id": "xwgn3yELe92j",
        "outputId": "7508c487-1353-46b5-bbb0-0d41adf0a218"
      },
      "source": [
        "l = [int(input(\"Enter value_ %2d:\"%(i+1))) for i in range(20)]\r\n",
        "evens = list(filter(lambda x : x%2==0 and x%4!=0, l))\r\n",
        "odds = list(filter(lambda x : x%2!=0 and x%5!=0, l))\r\n",
        "print(sum(evens)/len(evens) - sum(odds)/len(odds))"
      ],
      "execution_count": 26,
      "outputs": [
        {
          "output_type": "stream",
          "text": [
            "Enter value_  1:243\n",
            "Enter value_  2:23\n",
            "Enter value_  3:1\n",
            "Enter value_  4:56\n",
            "Enter value_  5:34\n",
            "Enter value_  6:6783\n",
            "Enter value_  7:45324\n",
            "Enter value_  8:4\n",
            "Enter value_  9:34\n",
            "Enter value_ 10:67\n",
            "Enter value_ 11:234\n",
            "Enter value_ 12:56\n",
            "Enter value_ 13:243\n",
            "Enter value_ 14:768\n",
            "Enter value_ 15:34\n",
            "Enter value_ 16:67\n",
            "Enter value_ 17:234\n",
            "Enter value_ 18:678\n",
            "Enter value_ 19:543\n",
            "Enter value_ 20:345\n",
            "-788.25\n"
          ],
          "name": "stdout"
        }
      ]
    },
    {
      "cell_type": "code",
      "metadata": {
        "colab": {
          "base_uri": "https://localhost:8080/"
        },
        "id": "E64LTyjsgDYm",
        "outputId": "ede9119a-f97d-47d7-8129-aad1cbb7a374"
      },
      "source": [
        "l = sorted([int(input(\"Enter value_ %2d :\"%(i+1))) for i in range(20)])\r\n",
        "print(\"Largest:\", *l[-1:-4:-1], \"\\nSmallest:\", *l[:3])"
      ],
      "execution_count": 28,
      "outputs": [
        {
          "output_type": "stream",
          "text": [
            "Enter value_  1 :12\n",
            "Enter value_  2 :90\n",
            "Enter value_  3 :78\n",
            "Enter value_  4 :45\n",
            "Enter value_  5 :23\n",
            "Enter value_  6 :35\n",
            "Enter value_  7 :46\n",
            "Enter value_  8 :57\n",
            "Enter value_  9 :68\n",
            "Enter value_ 10 :96\n",
            "Enter value_ 11 :25\n",
            "Enter value_ 12 :47\n",
            "Enter value_ 13 :58\n",
            "Enter value_ 14 :69\n",
            "Enter value_ 15 :70\n",
            "Enter value_ 16 :15\n",
            "Enter value_ 17 :29\n",
            "Enter value_ 18 :59\n",
            "Enter value_ 19 :84\n",
            "Enter value_ 20 :72\n",
            "Largest: 96 90 84 \n",
            "Smallest: 12 15 23\n"
          ],
          "name": "stdout"
        }
      ]
    },
    {
      "cell_type": "code",
      "metadata": {
        "colab": {
          "base_uri": "https://localhost:8080/"
        },
        "id": "UWPYlZquhWwc",
        "outputId": "c4fbe99a-e885-4d41-ea8e-c6b71db213a3"
      },
      "source": [
        "from collections import Counter\r\n",
        "c = Counter([int(input(\"Enter value_ %2d :\"%(i+1))) for i in range(20)])\r\n",
        "[print(k, \"is repeated\", c[k], \"times\") for k in c if c[k]>1]"
      ],
      "execution_count": 29,
      "outputs": [
        {
          "output_type": "stream",
          "text": [
            "Enter value_  1 :12\n",
            "Enter value_  2 :23\n",
            "Enter value_  3 :34\n",
            "Enter value_  4 :45\n",
            "Enter value_  5 :56\n",
            "Enter value_  6 :78\n",
            "Enter value_  7 :45\n",
            "Enter value_  8 :23\n",
            "Enter value_  9 :23\n",
            "Enter value_ 10 :67\n",
            "Enter value_ 11 :14\n",
            "Enter value_ 12 :23\n",
            "Enter value_ 13 :13\n",
            "Enter value_ 14 :69\n",
            "Enter value_ 15 :86\n",
            "Enter value_ 16 :98\n",
            "Enter value_ 17 :69\n",
            "Enter value_ 18 :69\n",
            "Enter value_ 19 :41\n",
            "Enter value_ 20 :55\n",
            "23 is repeated 4 times\n",
            "45 is repeated 2 times\n",
            "69 is repeated 3 times\n"
          ],
          "name": "stdout"
        },
        {
          "output_type": "execute_result",
          "data": {
            "text/plain": [
              "[None, None, None]"
            ]
          },
          "metadata": {
            "tags": []
          },
          "execution_count": 29
        }
      ]
    },
    {
      "cell_type": "code",
      "metadata": {
        "colab": {
          "base_uri": "https://localhost:8080/"
        },
        "id": "_YZBQ1ufirC8",
        "outputId": "f80d3235-5395-4354-9ef7-fb6865bb50c9"
      },
      "source": [
        "from math import pi, exp\r\n",
        "consts = (pi, exp)\r\n",
        "print(\"Area of circle is:\", consts[0]*int(input(\"Enter radius of circle:\"))**2)"
      ],
      "execution_count": 30,
      "outputs": [
        {
          "output_type": "stream",
          "text": [
            "Enter radius of circle:7\n",
            "Area of circle is: 153.93804002589985\n"
          ],
          "name": "stdout"
        }
      ]
    }
  ]
}